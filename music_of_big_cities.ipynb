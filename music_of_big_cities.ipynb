{
  "cells": [
    {
      "metadata": {},
      "cell_type": "markdown",
      "source": "# Анализ прослушивания музыки в Москве и Санкт-Петербурге"
    },
    {
      "metadata": {},
      "cell_type": "markdown",
      "source": "Рабочие гипотезы:\n\n* музыку в двух городах — Москве и Санкт-Петербурге — слушают в разном режиме\n\n* списки десяти самых популярных жанров утром в понедельник и вечером в пятницу имеют характерные отличия\n\n* население двух городов предпочитает разные музыкальные жанры"
    },
    {
      "metadata": {},
      "cell_type": "markdown",
      "source": "# Получение данных"
    },
    {
      "metadata": {
        "trusted": false
      },
      "cell_type": "code",
      "source": "import pandas as pd",
      "execution_count": 1,
      "outputs": []
    },
    {
      "metadata": {},
      "cell_type": "markdown",
      "source": "Прочитаем файл *music_of_big_cities.csv* и сохраним его в переменной *df*."
    },
    {
      "metadata": {
        "trusted": false
      },
      "cell_type": "code",
      "source": "df = pd.read_csv('music_of_big_cities.csv')",
      "execution_count": 2,
      "outputs": []
    },
    {
      "metadata": {
        "trusted": false
      },
      "cell_type": "code",
      "source": "df.head(10)",
      "execution_count": 3,
      "outputs": [
        {
          "data": {
            "text/html": "<div>\n<style scoped>\n    .dataframe tbody tr th:only-of-type {\n        vertical-align: middle;\n    }\n\n    .dataframe tbody tr th {\n        vertical-align: top;\n    }\n\n    .dataframe thead th {\n        text-align: right;\n    }\n</style>\n<table border=\"1\" class=\"dataframe\">\n  <thead>\n    <tr style=\"text-align: right;\">\n      <th></th>\n      <th>Unnamed: 0</th>\n      <th>userID</th>\n      <th>Track</th>\n      <th>artist</th>\n      <th>genre</th>\n      <th>City</th>\n      <th>time</th>\n      <th>Day</th>\n    </tr>\n  </thead>\n  <tbody>\n    <tr>\n      <td>0</td>\n      <td>0</td>\n      <td>FFB692EC</td>\n      <td>Kamigata To Boots</td>\n      <td>The Mass Missile</td>\n      <td>rock</td>\n      <td>Saint-Petersburg</td>\n      <td>20:28:33</td>\n      <td>Wednesday</td>\n    </tr>\n    <tr>\n      <td>1</td>\n      <td>1</td>\n      <td>55204538</td>\n      <td>Delayed Because of Accident</td>\n      <td>Andreas Rönnberg</td>\n      <td>rock</td>\n      <td>Moscow</td>\n      <td>14:07:09</td>\n      <td>Friday</td>\n    </tr>\n    <tr>\n      <td>2</td>\n      <td>2</td>\n      <td>20EC38</td>\n      <td>Funiculì funiculà</td>\n      <td>Mario Lanza</td>\n      <td>pop</td>\n      <td>Saint-Petersburg</td>\n      <td>20:58:07</td>\n      <td>Wednesday</td>\n    </tr>\n    <tr>\n      <td>3</td>\n      <td>3</td>\n      <td>A3DD03C9</td>\n      <td>Dragons in the Sunset</td>\n      <td>Fire + Ice</td>\n      <td>folk</td>\n      <td>Saint-Petersburg</td>\n      <td>08:37:09</td>\n      <td>Monday</td>\n    </tr>\n    <tr>\n      <td>4</td>\n      <td>4</td>\n      <td>E2DC1FAE</td>\n      <td>Soul People</td>\n      <td>Space Echo</td>\n      <td>dance</td>\n      <td>Moscow</td>\n      <td>08:34:34</td>\n      <td>Monday</td>\n    </tr>\n    <tr>\n      <td>5</td>\n      <td>5</td>\n      <td>842029A1</td>\n      <td>Преданная</td>\n      <td>IMPERVTOR</td>\n      <td>rusrap</td>\n      <td>Saint-Petersburg</td>\n      <td>13:09:41</td>\n      <td>Friday</td>\n    </tr>\n    <tr>\n      <td>6</td>\n      <td>6</td>\n      <td>4CB90AA5</td>\n      <td>True</td>\n      <td>Roman Messer</td>\n      <td>dance</td>\n      <td>Moscow</td>\n      <td>13:00:07</td>\n      <td>Wednesday</td>\n    </tr>\n    <tr>\n      <td>7</td>\n      <td>7</td>\n      <td>F03E1C1F</td>\n      <td>Feeling This Way</td>\n      <td>Polina Griffith</td>\n      <td>dance</td>\n      <td>Moscow</td>\n      <td>20:47:49</td>\n      <td>Wednesday</td>\n    </tr>\n    <tr>\n      <td>8</td>\n      <td>8</td>\n      <td>8FA1D3BE</td>\n      <td>И вновь продолжается бой</td>\n      <td>NaN</td>\n      <td>ruspop</td>\n      <td>Moscow</td>\n      <td>09:17:40</td>\n      <td>Friday</td>\n    </tr>\n    <tr>\n      <td>9</td>\n      <td>9</td>\n      <td>E772D5C0</td>\n      <td>Pessimist</td>\n      <td>NaN</td>\n      <td>dance</td>\n      <td>Saint-Petersburg</td>\n      <td>21:20:49</td>\n      <td>Wednesday</td>\n    </tr>\n  </tbody>\n</table>\n</div>",
            "text/plain": "   Unnamed: 0    userID                        Track            artist  \\\n0           0  FFB692EC            Kamigata To Boots  The Mass Missile   \n1           1  55204538  Delayed Because of Accident  Andreas Rönnberg   \n2           2    20EC38            Funiculì funiculà       Mario Lanza   \n3           3  A3DD03C9        Dragons in the Sunset        Fire + Ice   \n4           4  E2DC1FAE                  Soul People        Space Echo   \n5           5  842029A1                    Преданная         IMPERVTOR   \n6           6  4CB90AA5                         True      Roman Messer   \n7           7  F03E1C1F             Feeling This Way   Polina Griffith   \n8           8  8FA1D3BE     И вновь продолжается бой               NaN   \n9           9  E772D5C0                    Pessimist               NaN   \n\n    genre            City        time        Day  \n0    rock  Saint-Petersburg  20:28:33  Wednesday  \n1    rock            Moscow  14:07:09     Friday  \n2     pop  Saint-Petersburg  20:58:07  Wednesday  \n3    folk  Saint-Petersburg  08:37:09     Monday  \n4   dance            Moscow  08:34:34     Monday  \n5  rusrap  Saint-Petersburg  13:09:41     Friday  \n6   dance            Moscow  13:00:07  Wednesday  \n7   dance            Moscow  20:47:49  Wednesday  \n8  ruspop            Moscow  09:17:40     Friday  \n9   dance  Saint-Petersburg  21:20:49  Wednesday  "
          },
          "execution_count": 3,
          "metadata": {},
          "output_type": "execute_result"
        }
      ]
    },
    {
      "metadata": {},
      "cell_type": "markdown",
      "source": "Общая информация о данных таблицы df."
    },
    {
      "metadata": {
        "trusted": false
      },
      "cell_type": "code",
      "source": "df.info()",
      "execution_count": 4,
      "outputs": [
        {
          "name": "stdout",
          "output_type": "stream",
          "text": "<class 'pandas.core.frame.DataFrame'>\nRangeIndex: 65079 entries, 0 to 65078\nData columns (total 8 columns):\nUnnamed: 0    65079 non-null int64\n  userID      65079 non-null object\nTrack         63848 non-null object\nartist        57876 non-null object\ngenre         63881 non-null object\n  City        65079 non-null object\ntime          65079 non-null object\nDay           65079 non-null object\ndtypes: int64(1), object(7)\nmemory usage: 4.0+ MB\n"
        }
      ]
    },
    {
      "metadata": {},
      "cell_type": "markdown",
      "source": "Рассмотрим полученную информацию подробнее.\n\nВсего в таблице 7 столбцов:\n\n* userID — идентификатор пользователя;\n* Track — название трека;  \n* artist — имя исполнителя;\n* genre — название жанра;\n* City — город, в котором происходило прослушивание;\n* time — время, в которое пользователь слушал трек;\n* Day — день недели."
    },
    {
      "metadata": {},
      "cell_type": "markdown",
      "source": "Каждая строка таблицы содержит информацию о композициях определённого жанра в определённом исполнении, которые пользователи слушали в одном из городов в определённое время и день недели. Для проверки рабочих гипотез особенно ценны столбцы *time*, *day* и *City*. Данные из столбца *genre* позволят узнать самые популярные жанры."
    },
    {
      "metadata": {},
      "cell_type": "markdown",
      "source": "# Предобработка данных"
    },
    {
      "metadata": {},
      "cell_type": "markdown",
      "source": "Исключим пропуски, переименуем столбцы, а также проверим данные на наличие дубликатов."
    },
    {
      "metadata": {
        "trusted": false
      },
      "cell_type": "code",
      "source": "df.columns",
      "execution_count": 5,
      "outputs": [
        {
          "data": {
            "text/plain": "Index(['Unnamed: 0', '  userID', 'Track', 'artist', 'genre', '  City  ',\n       'time', 'Day'],\n      dtype='object')"
          },
          "execution_count": 5,
          "metadata": {},
          "output_type": "execute_result"
        }
      ]
    },
    {
      "metadata": {},
      "cell_type": "markdown",
      "source": "В названиях столбцов есть пробелы, которые могут затруднять доступ к данным. Переименуем столбцы для удобства дальнейшей работы. Проверим результат."
    },
    {
      "metadata": {
        "trusted": false
      },
      "cell_type": "code",
      "source": "df = df.drop(df.columns[0], axis='columns')",
      "execution_count": 6,
      "outputs": []
    },
    {
      "metadata": {
        "trusted": false
      },
      "cell_type": "code",
      "source": "df.columns = ['user_id','track_name','artist_name','genre_name','city','time','weekday']\ndf.head()",
      "execution_count": 7,
      "outputs": [
        {
          "data": {
            "text/html": "<div>\n<style scoped>\n    .dataframe tbody tr th:only-of-type {\n        vertical-align: middle;\n    }\n\n    .dataframe tbody tr th {\n        vertical-align: top;\n    }\n\n    .dataframe thead th {\n        text-align: right;\n    }\n</style>\n<table border=\"1\" class=\"dataframe\">\n  <thead>\n    <tr style=\"text-align: right;\">\n      <th></th>\n      <th>user_id</th>\n      <th>track_name</th>\n      <th>artist_name</th>\n      <th>genre_name</th>\n      <th>city</th>\n      <th>time</th>\n      <th>weekday</th>\n    </tr>\n  </thead>\n  <tbody>\n    <tr>\n      <td>0</td>\n      <td>FFB692EC</td>\n      <td>Kamigata To Boots</td>\n      <td>The Mass Missile</td>\n      <td>rock</td>\n      <td>Saint-Petersburg</td>\n      <td>20:28:33</td>\n      <td>Wednesday</td>\n    </tr>\n    <tr>\n      <td>1</td>\n      <td>55204538</td>\n      <td>Delayed Because of Accident</td>\n      <td>Andreas Rönnberg</td>\n      <td>rock</td>\n      <td>Moscow</td>\n      <td>14:07:09</td>\n      <td>Friday</td>\n    </tr>\n    <tr>\n      <td>2</td>\n      <td>20EC38</td>\n      <td>Funiculì funiculà</td>\n      <td>Mario Lanza</td>\n      <td>pop</td>\n      <td>Saint-Petersburg</td>\n      <td>20:58:07</td>\n      <td>Wednesday</td>\n    </tr>\n    <tr>\n      <td>3</td>\n      <td>A3DD03C9</td>\n      <td>Dragons in the Sunset</td>\n      <td>Fire + Ice</td>\n      <td>folk</td>\n      <td>Saint-Petersburg</td>\n      <td>08:37:09</td>\n      <td>Monday</td>\n    </tr>\n    <tr>\n      <td>4</td>\n      <td>E2DC1FAE</td>\n      <td>Soul People</td>\n      <td>Space Echo</td>\n      <td>dance</td>\n      <td>Moscow</td>\n      <td>08:34:34</td>\n      <td>Monday</td>\n    </tr>\n  </tbody>\n</table>\n</div>",
            "text/plain": "    user_id                   track_name       artist_name genre_name  \\\n0  FFB692EC            Kamigata To Boots  The Mass Missile       rock   \n1  55204538  Delayed Because of Accident  Andreas Rönnberg       rock   \n2    20EC38            Funiculì funiculà       Mario Lanza        pop   \n3  A3DD03C9        Dragons in the Sunset        Fire + Ice       folk   \n4  E2DC1FAE                  Soul People        Space Echo      dance   \n\n               city      time    weekday  \n0  Saint-Petersburg  20:28:33  Wednesday  \n1            Moscow  14:07:09     Friday  \n2  Saint-Petersburg  20:58:07  Wednesday  \n3  Saint-Petersburg  08:37:09     Monday  \n4            Moscow  08:34:34     Monday  "
          },
          "execution_count": 7,
          "metadata": {},
          "output_type": "execute_result"
        }
      ]
    },
    {
      "metadata": {},
      "cell_type": "markdown",
      "source": "Проверим данные на наличие пропусков вызовом набора методов для суммирования пропущенных значений."
    },
    {
      "metadata": {
        "trusted": false
      },
      "cell_type": "code",
      "source": "# вычисление суммарного количества пропусков, выявленных в таблице df\ndf.isnull().sum()",
      "execution_count": 8,
      "outputs": [
        {
          "data": {
            "text/plain": "user_id           0\ntrack_name     1231\nartist_name    7203\ngenre_name     1198\ncity              0\ntime              0\nweekday           0\ndtype: int64"
          },
          "execution_count": 8,
          "metadata": {},
          "output_type": "execute_result"
        }
      ]
    },
    {
      "metadata": {},
      "cell_type": "markdown",
      "source": "Пустые значения свидетельствуют, что для некоторых треков доступна не вся информация. Причины могут быть разные: скажем,  не назван конкретный исполнитель народной песни или есть проблемы с записью данных. Каждый отдельный случай необходимо разобрать и выявить причину."
    },
    {
      "metadata": {},
      "cell_type": "markdown",
      "source": "Заменяем пропущенные значения в столбцах с названием трека и исполнителя на строку 'unknown'."
    },
    {
      "metadata": {
        "trusted": false
      },
      "cell_type": "code",
      "source": "df['track_name'] = df['track_name'].fillna('unknown')",
      "execution_count": 9,
      "outputs": []
    },
    {
      "metadata": {
        "trusted": false
      },
      "cell_type": "code",
      "source": "df['artist_name'] = df['artist_name'].fillna('unknown')",
      "execution_count": 10,
      "outputs": []
    },
    {
      "metadata": {
        "trusted": false
      },
      "cell_type": "code",
      "source": "df.isnull().sum()",
      "execution_count": 11,
      "outputs": [
        {
          "data": {
            "text/plain": "user_id           0\ntrack_name        0\nartist_name       0\ngenre_name     1198\ncity              0\ntime              0\nweekday           0\ndtype: int64"
          },
          "execution_count": 11,
          "metadata": {},
          "output_type": "execute_result"
        }
      ]
    },
    {
      "metadata": {},
      "cell_type": "markdown",
      "source": "Необходимо установить наличие дубликатов.  Если найдутся, удаляем, и проверяем, все ли удалились."
    },
    {
      "metadata": {
        "trusted": false
      },
      "cell_type": "code",
      "source": "#получение суммарного количества дубликатов в таблице df\ndf.duplicated().sum()",
      "execution_count": 12,
      "outputs": [
        {
          "data": {
            "text/plain": "3826"
          },
          "execution_count": 12,
          "metadata": {},
          "output_type": "execute_result"
        }
      ]
    },
    {
      "metadata": {
        "trusted": false
      },
      "cell_type": "code",
      "source": "#удаление всех дубликатов из таблицы df\ndf = df.drop_duplicates().reset_index(drop=True)",
      "execution_count": 13,
      "outputs": []
    },
    {
      "metadata": {
        "trusted": false
      },
      "cell_type": "code",
      "source": "df.duplicated().sum()",
      "execution_count": 14,
      "outputs": [
        {
          "data": {
            "text/plain": "0"
          },
          "execution_count": 14,
          "metadata": {},
          "output_type": "execute_result"
        }
      ]
    },
    {
      "metadata": {},
      "cell_type": "markdown",
      "source": "Дубликаты могли появиться вследствие сбоя в записи данных. Стоит разобраться с причинами появления такого «информационного мусора»."
    },
    {
      "metadata": {},
      "cell_type": "markdown",
      "source": "Сохраняем список уникальных значений столбца с жанрами в переменной *genres_list*. \n\nОбъявим функцию *find_genre()* для поиска неявных дубликатов в столбце с жанрами. Например, когда название одного и того же жанра написано разными словами."
    },
    {
      "metadata": {
        "trusted": false
      },
      "cell_type": "code",
      "source": "#сохранение в переменной genres_list списка уникальных значений, выявленных в столбце 'genre_name'\ngenres_list = df['genre_name'].unique()",
      "execution_count": 15,
      "outputs": []
    },
    {
      "metadata": {
        "trusted": false
      },
      "cell_type": "code",
      "source": "# создание функции find_genre()\n# функция принимает как параметр строку с названием искомого жанра\n# в теле объявляется переменная-счётчик, ей присваивается значение 0\n# затем цикл for проходит по списку уникальных значений\n# если очередной элемент списка равен параметру функции\n# то значение счётчика увеличивается на 1\n# по окончании работы цикла функция возвращает значение счётчика\n\ndef find_genre(genre_name):\n    genre_count = 0\n    for element in genres_list:\n        if element == genre_name:\n            genre_count += 1\n    return genre_count",
      "execution_count": 16,
      "outputs": []
    },
    {
      "metadata": {},
      "cell_type": "markdown",
      "source": "Вызов функции *find_genre()* для поиска различных вариантов названия жанра хип-хоп в таблице.\n\nПравильное название — *hiphop*. Поищем другие варианты:\n\n* hip\n* hop\n* hip-hop"
    },
    {
      "metadata": {
        "trusted": false
      },
      "cell_type": "code",
      "source": "#вызовом функции find_genre() проверяется наличие варианта 'hip'\nfind_genre('hip')",
      "execution_count": 17,
      "outputs": [
        {
          "data": {
            "text/plain": "1"
          },
          "execution_count": 17,
          "metadata": {},
          "output_type": "execute_result"
        }
      ]
    },
    {
      "metadata": {
        "trusted": false
      },
      "cell_type": "code",
      "source": "#проверяется наличие варианта 'hop'\nfind_genre('hop')",
      "execution_count": 18,
      "outputs": [
        {
          "data": {
            "text/plain": "0"
          },
          "execution_count": 18,
          "metadata": {},
          "output_type": "execute_result"
        }
      ]
    },
    {
      "metadata": {
        "trusted": false
      },
      "cell_type": "code",
      "source": "#проверяется наличие варианта 'hip-hop'\nfind_genre('hip-hop')",
      "execution_count": 19,
      "outputs": [
        {
          "data": {
            "text/plain": "0"
          },
          "execution_count": 19,
          "metadata": {},
          "output_type": "execute_result"
        }
      ]
    },
    {
      "metadata": {},
      "cell_type": "markdown",
      "source": "Объявим функцию *find_hip_hop()*, которая заменяет  неправильное название этого жанра в столбце *'genre_name'* на *'hiphop'* и проверяет успешность выполнения замены.\n\nТак исправляем все варианты написания, которые выявила проверка."
    },
    {
      "metadata": {
        "trusted": false
      },
      "cell_type": "code",
      "source": "# создание функции find_hip_hop()\n# функция принимает как параметры таблицу df и неверное название\n# к столбцу 'genre_name' применяется специальный метод\n# который заменяет второй параметр на строку 'hiphop'\n# результат работы равен подсчитанному методом count() числу значений столбца\n# которые равны второму параметру\n# функция возвращает результат\n\ndef find_hip_hop(df,wrong):\n    df['genre_name'] = df['genre_name'].replace(wrong,'hiphop')\n    result = df[df['genre_name'] == wrong]['genre_name'].count()\n    return result",
      "execution_count": 20,
      "outputs": []
    },
    {
      "metadata": {
        "trusted": false
      },
      "cell_type": "code",
      "source": "#замена одного неверного варианта на hiphop вызовом функции find_hip_hop()\nfind_hip_hop(df,'hip')",
      "execution_count": 21,
      "outputs": [
        {
          "data": {
            "text/plain": "0"
          },
          "execution_count": 21,
          "metadata": {},
          "output_type": "execute_result"
        }
      ]
    },
    {
      "metadata": {},
      "cell_type": "markdown",
      "source": "Получаем общую информацию о данных. Убеждаемся, что чистка выполнена успешно."
    },
    {
      "metadata": {
        "trusted": false
      },
      "cell_type": "code",
      "source": "df.info()",
      "execution_count": 22,
      "outputs": [
        {
          "name": "stdout",
          "output_type": "stream",
          "text": "<class 'pandas.core.frame.DataFrame'>\nRangeIndex: 61253 entries, 0 to 61252\nData columns (total 7 columns):\nuser_id        61253 non-null object\ntrack_name     61253 non-null object\nartist_name    61253 non-null object\ngenre_name     60126 non-null object\ncity           61253 non-null object\ntime           61253 non-null object\nweekday        61253 non-null object\ndtypes: object(7)\nmemory usage: 3.3+ MB\n"
        }
      ]
    },
    {
      "metadata": {},
      "cell_type": "markdown",
      "source": "На этапе предобработки в данных обнаружились не только пропуски и проблемы с названиями столбцов, но и всяческие виды дубликатов. Их удаление позволит провести анализ точнее. Поскольку сведения о жанрах важно сохранить для анализа, не просто удаляем все пропущенные значения, но заполним пропущенные имена исполнителей и названия треков. Имена столбцов теперь корректны и удобны для дальнейшей работы."
    },
    {
      "metadata": {},
      "cell_type": "markdown",
      "source": "# Действительно ли музыку в разных городах слушают по-разному?"
    },
    {
      "metadata": {},
      "cell_type": "markdown",
      "source": "Была выдвинута гипотеза, что в Москве и Санкт-Петербурге пользователи слушают музыку по-разному. Проверяем это предположение по данным о трёх днях недели — понедельнике, среде и пятнице.\n\nДля каждого города устанавливаем количество прослушанных  в эти дни композиций с известным жанром, и сравниваем результаты."
    },
    {
      "metadata": {},
      "cell_type": "markdown",
      "source": "Группируем данные по городу и подсчитываем композиции, для которых известен жанр."
    },
    {
      "metadata": {
        "trusted": false
      },
      "cell_type": "code",
      "source": "#группировка данных таблицы df по столбцу 'city' и подсчёт количества значений столбца 'genre_name'\ndf.groupby('city')\ndf.groupby('city').count()",
      "execution_count": 23,
      "outputs": [
        {
          "data": {
            "text/html": "<div>\n<style scoped>\n    .dataframe tbody tr th:only-of-type {\n        vertical-align: middle;\n    }\n\n    .dataframe tbody tr th {\n        vertical-align: top;\n    }\n\n    .dataframe thead th {\n        text-align: right;\n    }\n</style>\n<table border=\"1\" class=\"dataframe\">\n  <thead>\n    <tr style=\"text-align: right;\">\n      <th></th>\n      <th>user_id</th>\n      <th>track_name</th>\n      <th>artist_name</th>\n      <th>genre_name</th>\n      <th>time</th>\n      <th>weekday</th>\n    </tr>\n    <tr>\n      <th>city</th>\n      <th></th>\n      <th></th>\n      <th></th>\n      <th></th>\n      <th></th>\n      <th></th>\n    </tr>\n  </thead>\n  <tbody>\n    <tr>\n      <td>Moscow</td>\n      <td>42741</td>\n      <td>42741</td>\n      <td>42741</td>\n      <td>41892</td>\n      <td>42741</td>\n      <td>42741</td>\n    </tr>\n    <tr>\n      <td>Saint-Petersburg</td>\n      <td>18512</td>\n      <td>18512</td>\n      <td>18512</td>\n      <td>18234</td>\n      <td>18512</td>\n      <td>18512</td>\n    </tr>\n  </tbody>\n</table>\n</div>",
            "text/plain": "                  user_id  track_name  artist_name  genre_name   time  weekday\ncity                                                                          \nMoscow              42741       42741        42741       41892  42741    42741\nSaint-Petersburg    18512       18512        18512       18234  18512    18512"
          },
          "execution_count": 23,
          "metadata": {},
          "output_type": "execute_result"
        }
      ]
    },
    {
      "metadata": {},
      "cell_type": "markdown",
      "source": "В Москве прослушиваний больше, чем в Питере, но это не значит, что Москва более активна. У Яндекс.Музыки в целом больше пользователей в Москве, поэтому величины сопоставимы."
    },
    {
      "metadata": {},
      "cell_type": "markdown",
      "source": "Сгруппируем данные по дню недели и подсчитаем прослушанные в понедельник, среду и пятницу композиции, для которых известен жанр."
    },
    {
      "metadata": {
        "trusted": false
      },
      "cell_type": "code",
      "source": "#группировка данных по столбцу 'weekday' и подсчёт количества значений столбца 'genre_name'\ndf.groupby('weekday')\ndf.groupby('weekday').count()",
      "execution_count": 24,
      "outputs": [
        {
          "data": {
            "text/html": "<div>\n<style scoped>\n    .dataframe tbody tr th:only-of-type {\n        vertical-align: middle;\n    }\n\n    .dataframe tbody tr th {\n        vertical-align: top;\n    }\n\n    .dataframe thead th {\n        text-align: right;\n    }\n</style>\n<table border=\"1\" class=\"dataframe\">\n  <thead>\n    <tr style=\"text-align: right;\">\n      <th></th>\n      <th>user_id</th>\n      <th>track_name</th>\n      <th>artist_name</th>\n      <th>genre_name</th>\n      <th>city</th>\n      <th>time</th>\n    </tr>\n    <tr>\n      <th>weekday</th>\n      <th></th>\n      <th></th>\n      <th></th>\n      <th></th>\n      <th></th>\n      <th></th>\n    </tr>\n  </thead>\n  <tbody>\n    <tr>\n      <td>Friday</td>\n      <td>21840</td>\n      <td>21840</td>\n      <td>21840</td>\n      <td>21482</td>\n      <td>21840</td>\n      <td>21840</td>\n    </tr>\n    <tr>\n      <td>Monday</td>\n      <td>21354</td>\n      <td>21354</td>\n      <td>21354</td>\n      <td>20866</td>\n      <td>21354</td>\n      <td>21354</td>\n    </tr>\n    <tr>\n      <td>Wednesday</td>\n      <td>18059</td>\n      <td>18059</td>\n      <td>18059</td>\n      <td>17778</td>\n      <td>18059</td>\n      <td>18059</td>\n    </tr>\n  </tbody>\n</table>\n</div>",
            "text/plain": "           user_id  track_name  artist_name  genre_name   city   time\nweekday                                                              \nFriday       21840       21840        21840       21482  21840  21840\nMonday       21354       21354        21354       20866  21354  21354\nWednesday    18059       18059        18059       17778  18059  18059"
          },
          "execution_count": 24,
          "metadata": {},
          "output_type": "execute_result"
        }
      ]
    },
    {
      "metadata": {},
      "cell_type": "markdown",
      "source": "Понедельник и пятница — время для музыки; по средам пользователи немного больше вовлечены в работу."
    },
    {
      "metadata": {},
      "cell_type": "markdown",
      "source": "Создаём функцию *number_tracks()*, которая принимает как параметры таблицу, день недели и название города, а возвращает количество прослушанных композиций, для которых известен жанр. Проверяем количество прослушанных композиций для каждого города и понедельника, затем среды и пятницы."
    },
    {
      "metadata": {
        "trusted": false
      },
      "cell_type": "code",
      "source": "# создание функции number_tracks()\n# объявляется функция с тремя параметрами: df, day, city\n# в переменной track_list сохраняются те строки таблицы df, для которых \n# значение в столбце 'weekday' равно параметру day\n# и одновременно значение в столбце 'city' равно параметру city\n# в переменной track_list_count сохраняется число значений столбца 'genre_name',\n# рассчитанное методом count() для таблицы track_list\n# функция возвращает значение track_list_count\n\ndef number_tracks(df,day,city):\n    track_list = df[(df['weekday'] == day) & (df['city'] == city)]  \n    track_list_count = track_list['genre_name'].count()\n    return track_list_count",
      "execution_count": 25,
      "outputs": []
    },
    {
      "metadata": {
        "trusted": false
      },
      "cell_type": "code",
      "source": "#список композиций для Москвы в понедельник\nnumber_tracks(df,'Monday','Moscow')",
      "execution_count": 26,
      "outputs": [
        {
          "data": {
            "text/plain": "15347"
          },
          "execution_count": 26,
          "metadata": {},
          "output_type": "execute_result"
        }
      ]
    },
    {
      "metadata": {
        "trusted": false
      },
      "cell_type": "code",
      "source": "#список композиций для Санкт-Петербурга в понедельник\nnumber_tracks(df,'Monday','Saint-Petersburg')",
      "execution_count": 27,
      "outputs": [
        {
          "data": {
            "text/plain": "5519"
          },
          "execution_count": 27,
          "metadata": {},
          "output_type": "execute_result"
        }
      ]
    },
    {
      "metadata": {
        "trusted": false
      },
      "cell_type": "code",
      "source": "#список композиций для Москвы в среду\nnumber_tracks(df,'Wednesday','Moscow')",
      "execution_count": 28,
      "outputs": [
        {
          "data": {
            "text/plain": "10865"
          },
          "execution_count": 28,
          "metadata": {},
          "output_type": "execute_result"
        }
      ]
    },
    {
      "metadata": {
        "trusted": false
      },
      "cell_type": "code",
      "source": "#список композиций для Санкт-Петербурга в среду\nnumber_tracks(df,'Wednesday','Saint-Petersburg')",
      "execution_count": 29,
      "outputs": [
        {
          "data": {
            "text/plain": "6913"
          },
          "execution_count": 29,
          "metadata": {},
          "output_type": "execute_result"
        }
      ]
    },
    {
      "metadata": {
        "trusted": false
      },
      "cell_type": "code",
      "source": "#список композиций для Москвы в пятницу\nnumber_tracks(df,'Friday','Moscow')",
      "execution_count": 30,
      "outputs": [
        {
          "data": {
            "text/plain": "15680"
          },
          "execution_count": 30,
          "metadata": {},
          "output_type": "execute_result"
        }
      ]
    },
    {
      "metadata": {
        "trusted": false
      },
      "cell_type": "code",
      "source": "#список композиций для Санкт-Петербурга в пятницу\nnumber_tracks(df,'Friday','Saint-Petersburg')",
      "execution_count": 31,
      "outputs": [
        {
          "data": {
            "text/plain": "5802"
          },
          "execution_count": 31,
          "metadata": {},
          "output_type": "execute_result"
        }
      ]
    },
    {
      "metadata": {},
      "cell_type": "markdown",
      "source": "Сведём полученную информацию в одну таблицу, где ['city', 'monday', 'wednesday', 'friday'] названия столбцов."
    },
    {
      "metadata": {
        "trusted": false
      },
      "cell_type": "code",
      "source": "table = pd.DataFrame(data = [['Moscow', 15347, 10865, 15680], ['Saint-Petersburg', 5519, 6913, 5802]],\n                     columns = ['city', 'monday', 'wednesday', 'friday'])",
      "execution_count": 32,
      "outputs": []
    },
    {
      "metadata": {},
      "cell_type": "markdown",
      "source": "Результаты показывают, что относительно среды музыку в Петербурге и Москве слушают «зеркально»: в Москве пики приходятся на понедельник и пятницу, а в среду время прослушивания снижается. Тогда как в Санкт-Петербурге среда — день самого большого интереса к музыке, а в понедельник и пятницу он меньше, причём почти одинаково меньше."
    },
    {
      "metadata": {},
      "cell_type": "markdown",
      "source": "# Утро понедельника и вечер пятницы — разная музыка или одна и та же?"
    },
    {
      "metadata": {},
      "cell_type": "markdown",
      "source": "Ищем ответ на вопрос, какие жанры преобладают в разных городах в понедельник утром и в пятницу вечером. Есть предположение, что в понедельник утром пользователи слушают больше бодрящей музыки (например, жанра поп), а вечером пятницы — больше танцевальных (например, электронику)."
    },
    {
      "metadata": {},
      "cell_type": "markdown",
      "source": "Получим таблицы данных по Москве *moscow_general* и по Санкт-Петербургу *spb_general*."
    },
    {
      "metadata": {
        "trusted": false
      },
      "cell_type": "code",
      "source": "#получение таблицы moscow_general из тех строк таблицы df, \n#для которых значение в столбце 'city' равно 'Moscow'\n\nmoscow_general = df[df['city'] == 'Moscow']",
      "execution_count": 33,
      "outputs": []
    },
    {
      "metadata": {
        "trusted": false
      },
      "cell_type": "code",
      "source": "#получение таблицы spb_general\nspb_general = df[df['city'] == 'Saint-Petersburg']",
      "execution_count": 34,
      "outputs": []
    },
    {
      "metadata": {},
      "cell_type": "markdown",
      "source": "Создаём функцию *genre_weekday()*, которая возвращает список жанров по запрошенному дню недели и времени суток с такого-то часа по такой-то."
    },
    {
      "metadata": {
        "trusted": false
      },
      "cell_type": "code",
      "source": "# объявление функции genre_weekday() с параметрами df, day, time1, time2\n# в переменной genre_list сохраняются те строки df, для которых одновременно:\n# 1) значение в столбце 'weekday' равно параметру day\n# 2) значение в столбце 'time' больше time1 и\n# 3) меньше time2.\n# в переменной genre_list_sorted сохраняются в порядке убывания  \n# первые 10 значений Series, полученной подсчётом числа значений 'genre_name'\n# сгруппированной по столбцу 'genre_name' таблицы genre_list\n# функция возвращает значение genre_list_sorted\n\ndef genre_weekday(df, day, time1, time2):\n    genre_list = df[(df['weekday'] == day) & (df['time'] > time1) & (df['time'] < time2)]\n    genre_list_sorted = genre_list.groupby('genre_name')['genre_name'].count()\n    return genre_list_sorted",
      "execution_count": 35,
      "outputs": []
    },
    {
      "metadata": {},
      "cell_type": "markdown",
      "source": "Cравниваем полученные результаты по таблице для Москвы и Санкт-Петербурга в понедельник утром (с 7 до 11) и в пятницу вечером (с 17 до 23)."
    },
    {
      "metadata": {
        "trusted": false
      },
      "cell_type": "code",
      "source": "#вызов функции для утра понедельника в Москве\ngenre_weekday(moscow_general, 'Monday','07:00:00','11:00:00')",
      "execution_count": 36,
      "outputs": [
        {
          "data": {
            "text/plain": "genre_name\nadult            1\nafrica           2\nalternative    164\nambient         22\namericana        1\n              ... \nvideogame        7\nvocal            8\nwestern         10\nworld          181\nworldbeat        1\nName: genre_name, Length: 152, dtype: int64"
          },
          "execution_count": 36,
          "metadata": {},
          "output_type": "execute_result"
        }
      ]
    },
    {
      "metadata": {
        "trusted": false
      },
      "cell_type": "code",
      "source": "#вызов функции для утра понедельника в Петербурге\ngenre_weekday(spb_general, 'Monday','07:00:00','11:00:00')",
      "execution_count": 37,
      "outputs": [
        {
          "data": {
            "text/plain": "genre_name\nadult           1\nalternative    58\nambient         5\nbalkan          1\nbeats           1\n               ..\nvariété         3\nvideogame       1\nvocal           2\nwestern         7\nworld          36\nName: genre_name, Length: 107, dtype: int64"
          },
          "execution_count": 37,
          "metadata": {},
          "output_type": "execute_result"
        }
      ]
    },
    {
      "metadata": {
        "trusted": false
      },
      "cell_type": "code",
      "source": "#вызов функции для вечера пятницы в Москве\ngenre_weekday(moscow_general, 'Friday','17:00:00','23:00:00')",
      "execution_count": 38,
      "outputs": [
        {
          "data": {
            "text/plain": "genre_name\nadult            1\nafrica           1\nalternative    163\nambient         18\namericana        2\n              ... \nvariété          6\nvideogame        5\nvocal            9\nwestern          4\nworld          208\nName: genre_name, Length: 163, dtype: int64"
          },
          "execution_count": 38,
          "metadata": {},
          "output_type": "execute_result"
        }
      ]
    },
    {
      "metadata": {
        "trusted": false
      },
      "cell_type": "code",
      "source": "#вызов функции для вечера пятницы в Питере\ngenre_weekday(spb_general, 'Friday','17:00:00','23:00:00')",
      "execution_count": 39,
      "outputs": [
        {
          "data": {
            "text/plain": "genre_name\nacoustic        1\nadult           1\nalternative    63\nambient         7\namericana       1\n               ..\nvariété         4\nvideogame       3\nvocal           2\nwestern         5\nworld          54\nName: genre_name, Length: 126, dtype: int64"
          },
          "execution_count": 39,
          "metadata": {},
          "output_type": "execute_result"
        }
      ]
    },
    {
      "metadata": {},
      "cell_type": "markdown",
      "source": "Популярные жанры в понедельник утром в Питере и Москве оказались похожи: везде, как и предполагалось, популярен поп. Несмотря на это, концовка топ-10 для двух городов различается: в Питере в топ-10 входит джаз и русский рэп, а в Москве жанр *world*.\n\nВ конце недели ситуация не меняется. Поп-музыка всё так же на первом месте. Опять разница заметна только в концовке топ-10, где в Питере пятничным вечером тоже присутствует жанр *world*."
    },
    {
      "metadata": {},
      "cell_type": "markdown",
      "source": "Жанр поп безусловный лидер, а топ-5 в целом не различается в обеих столицах. При этом видно, что концовка списка более «живая»: для каждого города выделяются более характерные жанры, которые действительно меняют свои позиции в зависимости от дня недели и времени."
    },
    {
      "metadata": {},
      "cell_type": "markdown",
      "source": "# Москва и Питер — две разные столицы, два разных направления в музыке. Правда?"
    },
    {
      "metadata": {},
      "cell_type": "markdown",
      "source": "Гипотеза: Питер богат своей рэп-культурой, поэтому это направление там слушают чаще, а Москва — город контрастов, но основная масса пользователей слушает попсу."
    },
    {
      "metadata": {},
      "cell_type": "markdown",
      "source": "Сгруппируем таблицу *moscow_general* по жанру, сосчитаем численность композиций каждого жанра, отсортируем в порядке убывания и сохраним результат в таблице *moscow_genres*.\n\nПросмотрим первые 10 строк этой новой таблицы."
    },
    {
      "metadata": {
        "trusted": false
      },
      "cell_type": "code",
      "source": "moscow_genres = moscow_general.groupby('genre_name')['genre_name'].count().sort_values(ascending = False)\nmoscow_genres.head(10)",
      "execution_count": 40,
      "outputs": [
        {
          "data": {
            "text/plain": "genre_name\npop            5892\ndance          4435\nrock           3965\nelectronic     3786\nhiphop         2096\nclassical      1616\nworld          1432\nalternative    1379\nruspop         1372\nrusrap         1161\nName: genre_name, dtype: int64"
          },
          "execution_count": 40,
          "metadata": {},
          "output_type": "execute_result"
        }
      ]
    },
    {
      "metadata": {},
      "cell_type": "markdown",
      "source": "Сгруппируем таблицу *spb_general* по жанру, сосчитаем численность композиций каждого жанра, отсортируем в порядке убывания и сохраним результат в таблице *spb_genres*.\n\nПросматриваем первые 10 строк этой таблицы. Теперь можно сравнивать два города."
    },
    {
      "metadata": {
        "trusted": false
      },
      "cell_type": "code",
      "source": "spb_genres = spb_general.groupby('genre_name')['genre_name'].count().sort_values(ascending = False)\nspb_genres.head(10)",
      "execution_count": 41,
      "outputs": [
        {
          "data": {
            "text/plain": "genre_name\npop            2431\ndance          1932\nrock           1879\nelectronic     1736\nhiphop          960\nalternative     649\nclassical       646\nrusrap          564\nruspop          538\nworld           515\nName: genre_name, dtype: int64"
          },
          "execution_count": 41,
          "metadata": {},
          "output_type": "execute_result"
        }
      ]
    },
    {
      "metadata": {},
      "cell_type": "markdown",
      "source": "В Москве, кроме абсолютно популярного жанра поп, есть направление русской популярной музыки. Значит, что интерес к этому жанру шире. А рэп, вопреки предположению, занимает в обоих городах близкие позиции."
    },
    {
      "metadata": {},
      "cell_type": "markdown",
      "source": "# Результаты исследования"
    },
    {
      "metadata": {},
      "cell_type": "markdown",
      "source": "Рабочие гипотезы:\n\n* музыку в двух городах — Москве и Санкт-Петербурге — слушают в разном режиме\n\n* списки десяти самых популярных жанров утром в понедельник и вечером в пятницу имеют характерные отличия\n\n* население двух городов предпочитает разные музыкальные жанры\n\n**Общие результаты**\n\nМосква и Петербург сходятся во вкусах: везде преобладает популярная музыка. При этом зависимости предпочтений от дня недели в каждом отдельном городе нет — люди постоянно слушают то, что им нравится. Но между городами в разрезе дней неделей наблюдается зеркальность относительно среды: Москва больше слушает в понедельник и пятницу, а Петербург наоборот - больше в среду, но меньше в понедельник и пятницу.\n\nВ результате подтверждена вторая гипотеза  — списки десяти самых популярных жанров утром в понедельник и вечером в пятницу имеют характерные отличия."
    }
  ],
  "metadata": {
    "kernelspec": {
      "name": "python3",
      "display_name": "Python 3",
      "language": "python"
    },
    "language_info": {
      "mimetype": "text/x-python",
      "nbconvert_exporter": "python",
      "name": "python",
      "pygments_lexer": "ipython3",
      "version": "3.5.4",
      "file_extension": ".py",
      "codemirror_mode": {
        "version": 3,
        "name": "ipython"
      }
    }
  },
  "nbformat": 4,
  "nbformat_minor": 2
}